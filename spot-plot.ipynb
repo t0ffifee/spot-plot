{
 "cells": [
  {
   "cell_type": "code",
   "execution_count": 1,
   "metadata": {},
   "outputs": [],
   "source": [
    "import spotipy\n",
    "import pandas as pd\n",
    "from spotipy.oauth2 import SpotifyClientCredentials\n",
    "import os\n",
    "from sklearn.preprocessing import MinMaxScaler\n",
    "import matplotlib.pyplot as plt\n",
    "from math import pi\n",
    "from helpers.spot import *\n",
    "from helpers.misc import *\n",
    "from time import sleep"
   ]
  },
  {
   "cell_type": "code",
   "execution_count": 2,
   "metadata": {},
   "outputs": [],
   "source": [
    "# constants\n",
    "ON_REPEAT = '37i9dQZF1Epfk0vNhDMCzw'\n",
    "REPEAT_REWIND = '37i9dQZF1EpCchDHzfQcYR'\n",
    "HIPHOP_NL = '0Fa3x3yr0duQJStzGpnH7w'"
   ]
  },
  {
   "cell_type": "code",
   "execution_count": 3,
   "metadata": {},
   "outputs": [],
   "source": [
    "# seting up\n",
    "client_id = os.environ.get('SPOT_CLIENT_ID')\n",
    "secret = os.environ.get('SPOT_SECRET')\n",
    "\n",
    "auth_manager = SpotifyClientCredentials(client_id, secret)\n",
    "sp = spotipy.Spotify(auth_manager=auth_manager)"
   ]
  },
  {
   "cell_type": "code",
   "execution_count": 4,
   "metadata": {},
   "outputs": [],
   "source": [
    "playlist_tracks = get_playlist_tracks(sp, HIPHOP_NL)\n",
    "ids = get_ids(playlist_tracks)"
   ]
  },
  {
   "cell_type": "code",
   "execution_count": 19,
   "metadata": {},
   "outputs": [
    {
     "name": "stdout",
     "output_type": "stream",
     "text": [
      "Nawoord True 39\n",
      "Quarantaine Sessie #1 False 43\n",
      "Arme Zielen True 29\n",
      "Terug Naar Toen True 38\n",
      "Wat Is Echt True 0\n",
      "Loyaal Zijn True 26\n",
      "Alleen Soms True 40\n",
      "Paranoia False 40\n",
      "Allemaal Op Brieven False 41\n",
      "Onderweg True 40\n",
      "Winterdagen False 43\n",
      "De Prijs True 42\n",
      "Niet Genoeg True 41\n",
      "Nog Steeds False 40\n",
      "Blauwe Lichten True 46\n",
      "Alles Of Niks True 46\n",
      "Vastberaden True 48\n",
      "Mijn Story True 47\n",
      "Studiosessie 304 - 101Barz True 52\n",
      "Gordelweg True 52\n",
      "Punchline Killer True 28\n",
      "Nooit Meer Terug False 30\n",
      "Maskerade True 26\n",
      "Maniac True 43\n",
      "Til 'Em Op True 49\n",
      "Moest Al Lang True 36\n",
      "Kort Lontje True 47\n",
      "Geen Zin Soms True 36\n",
      "MANSORY True 57\n",
      "Het Leven Is Een Trip True 54\n",
      "Dag Tot Dag True 28\n",
      "Wil je weten hoe et voelt False 36\n",
      "SEASONS - SE1EP1: Lijpe True 47\n",
      "Slapeloze Nachten False 64\n",
      "Hella Papers True 38\n",
      "Op Die Rap True 28\n",
      "Watskeburt?! True 57\n",
      "Sterrenstof True 64\n",
      "Noodzaak False 0\n",
      "Puinhoop False 17\n",
      "Mijn Pad - Live in de Ziggo Dome False 9\n",
      "Uit elkaar - Live in de Ziggo Dome False 6\n",
      "Nu zie je (feat. Lijpe) False 34\n",
      "Liever Alleen True 31\n",
      "Vallen & Opstaan True 36\n",
      "Nooit Goed True 33\n",
      "Waar Ik Vandaan Kom True 37\n",
      "Geen Tijd True 38\n",
      "Innerlijke Rust False 49\n",
      "Selfmade False 51\n"
     ]
    }
   ],
   "source": [
    "# getting track meta and features\n",
    "\n",
    "track_metas = []\n",
    "track_features = []\n",
    "splitted_ids = list(split_list(ids, 50))\n",
    "\n",
    "d1 = sp.tracks(splitted_ids[1])\n",
    "\n",
    "for track in d1['tracks']:\n",
    "    name, explicit, popularity = track['name'], track['explicit'], track['popularity']\n",
    "    "
   ]
  },
  {
   "cell_type": "code",
   "execution_count": 71,
   "metadata": {},
   "outputs": [
    {
     "data": {
      "text/plain": [
       "407"
      ]
     },
     "execution_count": 71,
     "metadata": {},
     "output_type": "execute_result"
    }
   ],
   "source": [
    "len(track_metas)"
   ]
  },
  {
   "cell_type": "code",
   "execution_count": null,
   "metadata": {},
   "outputs": [],
   "source": [
    "# data parsing\n",
    "needed_metas = ['name', 'explicit', 'popularity']\n",
    "needed_features = ['danceability', 'energy', 'key', 'loudness', 'mode', 'speechiness', 'acousticness', 'instrumentalness', 'liveness', 'valence', 'tempo']\n",
    "dict_data = dict((key, []) for key in (needed_metas+needed_features))\n",
    "\n",
    "for meta, features in zip(track_metas, track_features):\n",
    "    m = [meta[key] for key in needed_metas]\n",
    "    f = [features[key] for key in needed_features]\n",
    "    mf = m+f\n",
    "    for key, value in zip(dict_data.keys(), mf):\n",
    "        dict_data[key].append(value)\n",
    "\n",
    "data = pd.DataFrame.from_dict(dict_data)\n",
    "num_data = data.iloc[:,2:]\n",
    "\n",
    "# save data\n",
    "data.to_csv(path_or_buf=f'{playlist[\"name\"]}.csv')"
   ]
  },
  {
   "cell_type": "code",
   "execution_count": null,
   "metadata": {},
   "outputs": [],
   "source": [
    "num_data.loc[:] = MinMaxScaler().fit_transform(num_data.loc[:])\n",
    "\n",
    "# plot size\n",
    "fig=plt.figure(figsize=(12,8))\n",
    "\n",
    "# convert column names into a list\n",
    "categories=list(num_data.columns)\n",
    "# number of categories\n",
    "N=len(categories)\n",
    "\n",
    "# create a list with the average of all features\n",
    "value=list(num_data.mean())\n",
    "\n",
    "# repeat first value to close the circle\n",
    "# the plot is a circle, so we need to \"complete the loop\"\n",
    "# and append the start value to the end.\n",
    "value+=value[:1]\n",
    "# calculate angle for each category\n",
    "angles=[n/float(N)*2*pi for n in range(N)]\n",
    "angles+=angles[:1]\n",
    "\n",
    "# plot\n",
    "plt.polar(angles, value)\n",
    "plt.fill(angles,value,alpha=0.3)\n",
    "\n",
    "# plt.title('Discovery Weekly Songs Audio Features', size=35)\n",
    "\n",
    "plt.xticks(angles[:-1],categories, size=15)\n",
    "plt.yticks(color='grey',size=15)\n",
    "plt.show()"
   ]
  }
 ],
 "metadata": {
  "interpreter": {
   "hash": "916dbcbb3f70747c44a77c7bcd40155683ae19c65e1c03b4aa3499c5328201f1"
  },
  "kernelspec": {
   "display_name": "Python 3.8.10 64-bit",
   "language": "python",
   "name": "python3"
  },
  "language_info": {
   "codemirror_mode": {
    "name": "ipython",
    "version": 3
   },
   "file_extension": ".py",
   "mimetype": "text/x-python",
   "name": "python",
   "nbconvert_exporter": "python",
   "pygments_lexer": "ipython3",
   "version": "3.8.10"
  },
  "orig_nbformat": 4
 },
 "nbformat": 4,
 "nbformat_minor": 2
}
