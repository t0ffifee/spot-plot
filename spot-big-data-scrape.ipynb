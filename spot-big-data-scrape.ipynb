{
 "cells": [
  {
   "cell_type": "code",
   "execution_count": 1,
   "metadata": {},
   "outputs": [],
   "source": [
    "import spotipy\n",
    "import pandas as pd\n",
    "from spotipy.oauth2 import SpotifyClientCredentials\n",
    "from spotipy.oauth2 import SpotifyOAuth\n",
    "import os\n",
    "from helpers.spot import *\n",
    "from helpers.misc import *"
   ]
  },
  {
   "cell_type": "code",
   "execution_count": 2,
   "metadata": {},
   "outputs": [],
   "source": [
    "METAS = ['name', 'explicit', 'popularity']\n",
    "FEATURES = ['danceability', 'energy', 'key', 'loudness', 'mode', 'speechiness', 'acousticness', 'instrumentalness', 'liveness', 'valence', 'tempo']"
   ]
  },
  {
   "cell_type": "code",
   "execution_count": 8,
   "metadata": {},
   "outputs": [],
   "source": [
    "# seting up\n",
    "client_id = os.environ.get('SPOT_CLIENT_ID')\n",
    "secret = os.environ.get('SPOT_SECRET')\n",
    "redirect = 'https://localhost/'\n",
    "scope = \"playlist-read-private\"\n",
    "\n",
    "auth_manager = SpotifyOAuth(scope=scope, client_id=client_id, client_secret=secret, redirect_uri=redirect)\n",
    "sp = spotipy.Spotify(auth_manager=auth_manager)"
   ]
  },
  {
   "cell_type": "code",
   "execution_count": 9,
   "metadata": {},
   "outputs": [
    {
     "name": "stdout",
     "output_type": "stream",
     "text": [
      "   1 spotify:playlist:37i9dQZF1DWWEJlAGA9gs0 Classical Essentials\n",
      "   2 spotify:playlist:0iepisLXvVe5RxB3owHjlj lofi.co chill beats\n",
      "   3 spotify:playlist:5JWOPejdFVOm6UUnovkJx0 gedachten\n",
      "   4 spotify:playlist:50g29GVWnwxbsEamhSo68T karaoke\n",
      "   5 spotify:playlist:0NusNVlq0haCzSX72lwPrn @\n",
      "   6 spotify:playlist:6rcWOzz4Og8i972IdHy34V hitmen hits\n",
      "   7 spotify:playlist:5xd8OrPRo83nLnfnO1eekP hiphop-feest\n",
      "   8 spotify:playlist:37i9dQZF1DXaxaSDfbf0Qf Slow Flows\n",
      "   9 spotify:playlist:4hyQYdeOLzFnL5bWp223Pj best-skits\n",
      "  10 spotify:playlist:37i9dQZF1DX8d6nUbucouc Grondleggers\n",
      "  11 spotify:playlist:0BdWKoSY5QIH4N4vOYjyoO poetry-on-beats\n",
      "  12 spotify:playlist:4wTVILMKT9OATFpXJegPfg instruments\n",
      "  13 spotify:playlist:3v7qSucLLM2dt0fdvIAdtK De allerbeste Nederlandstalige liedjes ooit geschreven\n",
      "  14 spotify:playlist:2bMa9j6l1ESNNM3DdBnQB1 club\n",
      "  15 spotify:playlist:6149UcJuurzLN3HjOLbDZw blue\n",
      "  16 spotify:playlist:3aC8P4dx6EadGO0dXrLoXs meesterwerken\n",
      "  17 spotify:playlist:7ytxAVWQ1sxqaUVhepA0KE hiphop-fr\n",
      "  18 spotify:playlist:37i9dQZF1EQp62d3Dl7ECY Folk & Acoustic Mix\n",
      "  19 spotify:playlist:4Elmu1Wf1QVQt8jVrtDtHZ masterpieces\n",
      "  20 spotify:playlist:5TwBJr1ggfSnf5APzq16eJ roots\n",
      "  21 spotify:playlist:37i9dQZF1DX7EF8wVxBVhG Binaural Beats: Focus\n",
      "  22 spotify:playlist:6OVaACJrvbbgZaeTdIdxZ1 trap-workout\n",
      "  23 spotify:playlist:69BXIq2jeQZOX9ZT6zOVFv eminem-workout\n",
      "  24 spotify:playlist:6fLV4iA7L7bhl7i0HL9bDK bonne-musique\n",
      "  25 spotify:playlist:5BriBH2HqOwP1huILk4gtA thoughts\n",
      "  26 spotify:playlist:1pq1HflxPVVNBRDptgcss4 vrouwmensen\n",
      "  27 spotify:playlist:6XzQNPk7SZwTATpYlchTsR good-music\n",
      "  28 spotify:playlist:7ieNrdD86OLgFSYyhtgccT goede-muziek\n",
      "  29 spotify:playlist:36Aea3wgEDFvKPYduEhyK0 just-focus\n",
      "  30 spotify:playlist:0Ip7hJA1tFJp0u4Az2Q0s5 hiphop-meesterwerken\n",
      "  31 spotify:playlist:1ZGYYdlHujtmLbYtTGBBPJ hiphop-masterpieces\n",
      "  32 spotify:playlist:67KZkfD4jFJRwNBLWqn28P workout\n",
      "  33 spotify:playlist:5lQZTLVnYzIorkmkTWbS7I hardcore-workout\n",
      "  34 spotify:playlist:4G0QvbRitHovZM9vOPSZ0R local-files\n",
      "  35 spotify:playlist:70avc6TRuadcOsc9ORnT2a hiphop-eng\n",
      "  36 spotify:playlist:5a8otGcFX6cfb4e3ApggIQ hiphop-90s\n",
      "  37 spotify:playlist:0Fa3x3yr0duQJStzGpnH7w hiphop-nl\n",
      "  38 spotify:playlist:6cwOjjMuehgbU6iTKi595o 2pac\n",
      "  39 spotify:playlist:7iexbZBiQSQX2c1tnz27Aq eminem\n",
      "  40 spotify:playlist:161tiyeAc1yYoAGFvC4vb6 nas\n",
      "  41 spotify:playlist:5Mzul0Ih396D2D3S6Ugm0d gangstarr\n",
      "  42 spotify:playlist:0Hj7hqigvkkOYO5biPxDgS mobb deep\n",
      "  43 spotify:playlist:3TGXKwtf2JwK5IlPcIgbDB boef\n",
      "  44 spotify:playlist:7Grtk899yWJ2cA1JtU0myK lijpe\n",
      "  45 spotify:playlist:0Yh1Ksg2CjuOH0dzLjwVdL Chill | Electronic\n",
      "  46 spotify:playlist:3bN97MB45N80vrzQS8xSA9 salfik-chansongs\n",
      "  47 spotify:playlist:6arDcBGhllQg04FHCSnfg5 Maitre Gims, The Shinsekai, La Fouine, Black M, Ridsa, Maska, etc.\n",
      "  48 spotify:playlist:46ma3wIlrXkXpJQL8fs1fI Chill | E-Music\n"
     ]
    }
   ],
   "source": [
    "playlists = sp.user_playlists('toufik-ammoura')\n",
    "while playlists:\n",
    "    for i, playlist in enumerate(playlists['items']):\n",
    "        print(\"%4d %s %s\" % (i + 1 + playlists['offset'], playlist['uri'],  playlist['name']))\n",
    "    if playlists['next']:\n",
    "        playlists = sp.next(playlists)\n",
    "    else:\n",
    "        playlists = None"
   ]
  },
  {
   "cell_type": "code",
   "execution_count": null,
   "metadata": {},
   "outputs": [],
   "source": [
    "\n",
    "playlists = sp.user_playlists('toufik-ammoura')\n",
    "\n",
    "playlist_ids = [playlist['id'] for playlist in playlists['items']]\n",
    "playlist_names = [playlist['name'] for playlist in playlists['items']]\n",
    "\n",
    "\n",
    "print(playlist_names)\n",
    "\n",
    "\n",
    "while True:\n",
    "    response = sp.playlist_items()"
   ]
  },
  {
   "cell_type": "code",
   "execution_count": null,
   "metadata": {},
   "outputs": [],
   "source": [
    "import sys\n",
    "import spotipy\n",
    "from spotipy.oauth2 import SpotifyOAuth\n",
    "\n",
    "sp = spotipy.Spotify(auth_manager=SpotifyOAuth())\n",
    "\n",
    "playlists = sp.user_playlists('toufik-ammoura')\n",
    "\n",
    "for playlist in playlists['items']:\n",
    "    print(playlist['name'])"
   ]
  }
 ],
 "metadata": {
  "kernelspec": {
   "display_name": "Python 3.8.10 64-bit",
   "language": "python",
   "name": "python3"
  },
  "language_info": {
   "codemirror_mode": {
    "name": "ipython",
    "version": 3
   },
   "file_extension": ".py",
   "mimetype": "text/x-python",
   "name": "python",
   "nbconvert_exporter": "python",
   "pygments_lexer": "ipython3",
   "version": "3.8.10"
  },
  "orig_nbformat": 4,
  "vscode": {
   "interpreter": {
    "hash": "916dbcbb3f70747c44a77c7bcd40155683ae19c65e1c03b4aa3499c5328201f1"
   }
  }
 },
 "nbformat": 4,
 "nbformat_minor": 2
}
