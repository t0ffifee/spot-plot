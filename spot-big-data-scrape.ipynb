{
 "cells": [
  {
   "cell_type": "code",
   "execution_count": 1,
   "metadata": {},
   "outputs": [],
   "source": [
    "from helpers.misc import *\n",
    "from helpers.save import *\n",
    "from helpers.spot import *"
   ]
  },
  {
   "cell_type": "code",
   "execution_count": 2,
   "metadata": {},
   "outputs": [],
   "source": [
    "METAS = ['name', 'explicit', 'popularity']\n",
    "FEATURES = ['danceability', 'energy', 'key', 'loudness', 'mode', 'speechiness', 'acousticness', 'instrumentalness', 'liveness', 'valence', 'tempo']\n",
    "sp = setup()"
   ]
  },
  {
   "cell_type": "markdown",
   "metadata": {},
   "source": [
    "##### getting my tracks"
   ]
  },
  {
   "cell_type": "code",
   "execution_count": 3,
   "metadata": {},
   "outputs": [],
   "source": [
    "my_playlists = sp.current_user_playlists()\n",
    "ids = [r['id'] for r in my_playlists['items']]\n",
    "\n",
    "tracks = []\n",
    "playlist_ids = get_playlist_ids(sp)\n",
    "\n",
    "for p_id in playlist_ids:\n",
    "    playlist_tracks = get_playlist_track_metas(sp, p_id)\n",
    "    tracks += playlist_tracks\n",
    "\n",
    "save_json(tracks, 'tracks.json')"
   ]
  },
  {
   "cell_type": "markdown",
   "metadata": {},
   "source": [
    "##### getting the audio features of my tracks and cleaning up tracks"
   ]
  },
  {
   "cell_type": "code",
   "execution_count": 4,
   "metadata": {},
   "outputs": [],
   "source": [
    "data = open_json('tracks.json')\n",
    "clean_data = []\n",
    "track_ids = []\n",
    "\n",
    "for el in data:\n",
    "    try:\n",
    "        track = el['track']\n",
    "        id = track['id']\n",
    "        if id:\n",
    "            track_ids.append(id)\n",
    "            clean_data.append(track)\n",
    "    except:\n",
    "        continue\n",
    "\n",
    "analysis = get_audio_features(sp, track_ids)\n",
    "save_json(analysis, 'tracks_analysis.json')\n",
    "save_json(clean_data, 'tracks.json')\n",
    "\n",
    "parsed_features = parse_features(analysis, FEATURES)\n",
    "save_json(parsed_features, 'track_features.json')"
   ]
  },
  {
   "cell_type": "markdown",
   "metadata": {},
   "source": [
    "##### making it one big dictionary"
   ]
  },
  {
   "cell_type": "code",
   "execution_count": 13,
   "metadata": {},
   "outputs": [],
   "source": [
    "tracks = open_json('tracks.json')\n",
    "features = open_json('track_features.json')\n",
    "\n",
    "for t, f in zip(tracks, features):\n",
    "    t['features'] = f\n",
    "\n",
    "save_json(tracks, 'data.json')"
   ]
  }
 ],
 "metadata": {
  "kernelspec": {
   "display_name": "Python 3.8.10 64-bit",
   "language": "python",
   "name": "python3"
  },
  "language_info": {
   "codemirror_mode": {
    "name": "ipython",
    "version": 3
   },
   "file_extension": ".py",
   "mimetype": "text/x-python",
   "name": "python",
   "nbconvert_exporter": "python",
   "pygments_lexer": "ipython3",
   "version": "3.8.10"
  },
  "orig_nbformat": 4,
  "vscode": {
   "interpreter": {
    "hash": "916dbcbb3f70747c44a77c7bcd40155683ae19c65e1c03b4aa3499c5328201f1"
   }
  }
 },
 "nbformat": 4,
 "nbformat_minor": 2
}
