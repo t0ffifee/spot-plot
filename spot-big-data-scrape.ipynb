{
 "cells": [
  {
   "cell_type": "code",
   "execution_count": 1,
   "metadata": {},
   "outputs": [],
   "source": [
    "import spotipy\n",
    "import pandas as pd\n",
    "from spotipy.oauth2 import SpotifyClientCredentials\n",
    "from spotipy.oauth2 import SpotifyOAuth\n",
    "import os\n",
    "from helpers.spot import *\n",
    "from helpers.misc import *"
   ]
  },
  {
   "cell_type": "code",
   "execution_count": 2,
   "metadata": {},
   "outputs": [],
   "source": [
    "METAS = ['name', 'explicit', 'popularity']\n",
    "FEATURES = ['danceability', 'energy', 'key', 'loudness', 'mode', 'speechiness', 'acousticness', 'instrumentalness', 'liveness', 'valence', 'tempo']"
   ]
  },
  {
   "cell_type": "code",
   "execution_count": 8,
   "metadata": {},
   "outputs": [],
   "source": [
    "# seting up\n",
    "client_id = os.environ.get('SPOT_CLIENT_ID')\n",
    "secret = os.environ.get('SPOT_SECRET')\n",
    "redirect = 'https://localhost/'\n",
    "scope = \"playlist-read-private\"\n",
    "\n",
    "auth_manager = SpotifyOAuth(scope=scope, client_id=client_id, client_secret=secret, redirect_uri=redirect)\n",
    "sp = spotipy.Spotify(auth_manager=auth_manager)"
   ]
  },
  {
   "cell_type": "code",
   "execution_count": null,
   "metadata": {},
   "outputs": [],
   "source": [
    "\"\"\"\n",
    "find playlists \n",
    "get songs out of it\n",
    "get their data\n",
    "save it\n",
    "\"\"\"\n",
    "\n",
    "track_ids = []\n",
    "playlist_ids = get_playlist_ids(sp)\n",
    "\n",
    "for playlist_id in playlist_ids:\n",
    "    track_ids = get_playlist_track_ids(sp, playlist_id)\n",
    "\n"
   ]
  }
 ],
 "metadata": {
  "kernelspec": {
   "display_name": "Python 3.8.10 64-bit",
   "language": "python",
   "name": "python3"
  },
  "language_info": {
   "codemirror_mode": {
    "name": "ipython",
    "version": 3
   },
   "file_extension": ".py",
   "mimetype": "text/x-python",
   "name": "python",
   "nbconvert_exporter": "python",
   "pygments_lexer": "ipython3",
   "version": "3.8.10"
  },
  "orig_nbformat": 4,
  "vscode": {
   "interpreter": {
    "hash": "916dbcbb3f70747c44a77c7bcd40155683ae19c65e1c03b4aa3499c5328201f1"
   }
  }
 },
 "nbformat": 4,
 "nbformat_minor": 2
}
