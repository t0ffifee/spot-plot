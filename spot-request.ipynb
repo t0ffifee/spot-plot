{
 "cells": [
  {
   "cell_type": "code",
   "execution_count": 1,
   "metadata": {},
   "outputs": [],
   "source": [
    "import spotipy\n",
    "import pandas as pd\n",
    "from spotipy.oauth2 import SpotifyClientCredentials\n",
    "import os\n",
    "from helpers.spot import *\n",
    "from helpers.misc import *"
   ]
  },
  {
   "cell_type": "code",
   "execution_count": 2,
   "metadata": {},
   "outputs": [],
   "source": [
    "# constants\n",
    "ON_REPEAT = '37i9dQZF1Epfk0vNhDMCzw'\n",
    "REPEAT_REWIND = '37i9dQZF1EpCchDHzfQcYR'\n",
    "HIPHOP_NL = '0Fa3x3yr0duQJStzGpnH7w'\n",
    "\n",
    "METAS = ['name', 'explicit', 'popularity']\n",
    "FEATURES = ['danceability', 'energy', 'key', 'loudness', 'mode', 'speechiness', 'acousticness', 'instrumentalness', 'liveness', 'valence', 'tempo']\n",
    "\n",
    "PLAYLIST = REPEAT_REWIND"
   ]
  },
  {
   "cell_type": "code",
   "execution_count": 3,
   "metadata": {},
   "outputs": [],
   "source": [
    "# seting up\n",
    "client_id = os.environ.get('SPOT_CLIENT_ID')\n",
    "secret = os.environ.get('SPOT_SECRET')\n",
    "\n",
    "auth_manager = SpotifyClientCredentials(client_id, secret)\n",
    "sp = spotipy.Spotify(auth_manager=auth_manager)"
   ]
  },
  {
   "cell_type": "code",
   "execution_count": 4,
   "metadata": {},
   "outputs": [],
   "source": [
    "# getting track meta and features\n",
    "ids = []\n",
    "track_metas = []\n",
    "track_features = []\n",
    "\n",
    "playlist_name = sp.playlist(PLAYLIST, fields='name')['name']\n",
    "playlist_tracks = get_playlist_tracks(sp, PLAYLIST)\n",
    "\n",
    "ids = parse_ids(playlist_tracks)\n",
    "track_metas = parse_metas(playlist_tracks, METAS)\n",
    "track_features_mess = get_audio_features(sp, ids)\n",
    "# need to flatten the track_features list\n",
    "track_features_mess = [item for sublist in track_features_mess for item in sublist]\n",
    "track_features = parse_features(track_features_mess, FEATURES)"
   ]
  },
  {
   "cell_type": "code",
   "execution_count": 8,
   "metadata": {},
   "outputs": [],
   "source": [
    "# data parsing\n",
    "dict_data = dict((key, []) for key in (METAS+FEATURES))\n",
    "\n",
    "for meta, features in zip(track_metas, track_features):\n",
    "    mf = meta + features\n",
    "    for key, value in zip(dict_data.keys(), mf):\n",
    "        dict_data[key].append(value)\n",
    "\n",
    "data = pd.DataFrame.from_dict(dict_data)\n",
    "num_data = data.iloc[:,2:]\n",
    "\n",
    "# save data\n",
    "data.to_csv(path_or_buf=f'data/{playlist_name}.csv')"
   ]
  }
 ],
 "metadata": {
  "interpreter": {
   "hash": "916dbcbb3f70747c44a77c7bcd40155683ae19c65e1c03b4aa3499c5328201f1"
  },
  "kernelspec": {
   "display_name": "Python 3.8.10 64-bit",
   "language": "python",
   "name": "python3"
  },
  "language_info": {
   "codemirror_mode": {
    "name": "ipython",
    "version": 3
   },
   "file_extension": ".py",
   "mimetype": "text/x-python",
   "name": "python",
   "nbconvert_exporter": "python",
   "pygments_lexer": "ipython3",
   "version": "3.8.10"
  },
  "orig_nbformat": 4
 },
 "nbformat": 4,
 "nbformat_minor": 2
}
